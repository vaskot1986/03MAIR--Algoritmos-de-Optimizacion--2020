{
  "nbformat": 4,
  "nbformat_minor": 0,
  "metadata": {
    "colab": {
      "name": "Arnau_Vazquez-AG2.ipynb",
      "provenance": [],
      "collapsed_sections": [],
      "authorship_tag": "ABX9TyPnVS17MAmGIzFnMImmjw6K",
      "include_colab_link": true
    },
    "kernelspec": {
      "name": "python3",
      "display_name": "Python 3"
    }
  },
  "cells": [
    {
      "cell_type": "markdown",
      "metadata": {
        "id": "view-in-github",
        "colab_type": "text"
      },
      "source": [
        "<a href=\"https://colab.research.google.com/github/vaskot1986/03MAIR--Algoritmos-de-Optimizacion--2020/blob/master/Arnau_Vazquez_AG2.ipynb\" target=\"_parent\"><img src=\"https://colab.research.google.com/assets/colab-badge.svg\" alt=\"Open In Colab\"/></a>"
      ]
    },
    {
      "cell_type": "markdown",
      "metadata": {
        "id": "XX09wh6IlA9b",
        "colab_type": "text"
      },
      "source": [
        "**Nombre:** Arnau Vazquez Giner\n",
        "\n",
        "**Url Colab:** https://colab.research.google.com/drive/1z1uMETeULHm8-4KN9SifIyeTxXE7RkwT?usp=sharing\n",
        "\n",
        "**Url Github:** "
      ]
    },
    {
      "cell_type": "code",
      "metadata": {
        "id": "3RCmGWIhGdkE",
        "colab_type": "code",
        "colab": {
          "base_uri": "https://localhost:8080/",
          "height": 106
        },
        "outputId": "2c510e7b-2f8d-4f4b-9d8e-195cd0d73421"
      },
      "source": [
        "TARIFAS = [\n",
        "           [0,5,4,3,999,999,999],\n",
        "           [999,0,999,2,3,999,11],\n",
        "           [999,999,0,1,999,4,10],\n",
        "           [999,999,999,0,5,6,9],\n",
        "           [999,999,999,999,0,999,4],\n",
        "           [999,999,999,999,999,0,3],\n",
        "           [999,999,999,999,999,999,0]\n",
        "]\n",
        "\n",
        "def Precios(TARIFAS):\n",
        "  N = len(TARIFAS[0])\n",
        "  PRECIOS = [[9999]*N for i in [9999]*N]\n",
        "  RUTA = [[\"\"]*N for i in [\"\"]*N] \n",
        "\n",
        "  for i in range(N-1):\n",
        "    for j in range(i+1, N):\n",
        "      MIN = TARIFAS[i][j]\n",
        "      RUTA[i][j] = i\n",
        "\n",
        "      for k in range(i,j):\n",
        "        if PRECIOS[i][k] + TARIFAS[k][j] < MIN:\n",
        "          MIN = min(MIN, PRECIOS[i][k] + TARIFAS[k][j])\n",
        "          RUTA[i][j]=k\n",
        "        PRECIOS[i][j]= MIN\n",
        "    \n",
        "\n",
        "  return PRECIOS,RUTA\n",
        "\n",
        "def calcular_ruta(RUTA, desde, hasta):\n",
        "  if desde == hasta:\n",
        "    return desde\n",
        "  else:\n",
        "    return str(calcular_ruta(RUTA, desde, RUTA[desde][hasta]))+','+str(RUTA[desde][hasta])\n",
        "\n",
        "PRECIOS,RUTA = Precios(TARIFAS)\n",
        "print(RUTA)\n",
        "print(\"\\nLa ruta es:\")\n",
        "calcular_ruta(RUTA, 0, 6)"
      ],
      "execution_count": 1,
      "outputs": [
        {
          "output_type": "stream",
          "text": [
            "[['', 0, 0, 0, 1, 2, 5], ['', '', 1, 1, 1, 3, 4], ['', '', '', 2, 3, 2, 5], ['', '', '', '', 3, 3, 3], ['', '', '', '', '', 4, 4], ['', '', '', '', '', '', 5], ['', '', '', '', '', '', '']]\n",
            "\n",
            "La ruta es:\n"
          ],
          "name": "stdout"
        },
        {
          "output_type": "execute_result",
          "data": {
            "application/vnd.google.colaboratory.intrinsic+json": {
              "type": "string"
            },
            "text/plain": [
              "'0,0,2,5'"
            ]
          },
          "metadata": {
            "tags": []
          },
          "execution_count": 1
        }
      ]
    },
    {
      "cell_type": "markdown",
      "metadata": {
        "id": "cEvIdabwdWiY",
        "colab_type": "text"
      },
      "source": [
        "La ruta más barata podemos ver que es con el origen 0 pasar por el nodo 2, del 2 pasar al 5. Desde el 5 la única opción que queda es el 6. \n",
        "El coste total es 11."
      ]
    },
    {
      "cell_type": "code",
      "metadata": {
        "id": "3ENUF5kXfUTl",
        "colab_type": "code",
        "colab": {
          "base_uri": "https://localhost:8080/",
          "height": 34
        },
        "outputId": "439bf12f-e51f-43a9-8942-3245988068c5"
      },
      "source": [
        "#Ramificacion y poda\n",
        "#Matriz de costes del problema\n",
        "COSTES = [\n",
        "          [11,12,18,40],\n",
        "          [14,15,13,22],\n",
        "          [11,17,19,23],\n",
        "          [17,14,20,28]\n",
        "]\n",
        "\n",
        "def CI(S,COSTES):\n",
        "  VALOR = 0\n",
        "  #Valores establecidos\n",
        "  for i in range(len(S)):\n",
        "    VALOR += COSTES[i][S[i]]\n",
        "\n",
        "  #Estimacion\n",
        "  for i in range (len(COSTES)):\n",
        "    if i not in S:\n",
        "      VALOR += min([COSTES[j][i] for j in range(len(S),len(COSTES))])\n",
        "  return VALOR\n",
        "\n",
        "#Funcion estimacion costes\n",
        "#i=agente y S[i]=tarea  S(3,0,2,3)->agente 0 tarea 3, agente 1 tarea 0, etc...\n",
        "def valor(S,COSTES):\n",
        "  VALOR = 0\n",
        "  #Valores \n",
        "  for i in range(len(S)):\n",
        "    VALOR += COSTES[i][S[i]]\n",
        "\n",
        "  #Estimacion\n",
        "  for i in range( len(COSTES) ):\n",
        "    if i not in S:\n",
        "      VALOR += min( [ COSTES[j][i] for j in range(len(S), len(COSTES)) ])\n",
        "  return VALOR\n",
        "\n",
        "def crear_hijos(NODO, N):\n",
        "  HIJOS = []\n",
        "  for i in range(N):\n",
        "    if i not in NODO:\n",
        "      HIJOS.append({'s':NODO+(i,)})\n",
        "  return HIJOS\n",
        "\n",
        "def ramificacion_y_poda(COSTES):\n",
        "  DIMENSION = len(COSTES)\n",
        "  MEJOR_SOLUCION=tuple(i for i in range(len(COSTES)))\n",
        "  CotaSup = valor(MEJOR_SOLUCION,COSTES)\n",
        "\n",
        "  NODOS=[]\n",
        "  NODOS.append({'s':(), 'ci':CI((),COSTES)})\n",
        "\n",
        "  iteracion = 0\n",
        "\n",
        "  while(len(NODOS) > 0):\n",
        "    iteracion +=1\n",
        "     \n",
        "    nodo_prometedor = [ min(NODOS,key=lambda x:x['ci']) ][0]['s']\n",
        "\n",
        "    #RAMIFICACION\n",
        "    HIJOS =[ {'s':x['s'],'ci':CI(x['s'],COSTES)} for x in crear_hijos(nodo_prometedor, DIMENSION) ]\n",
        "\n",
        "    #REVISAMOS COTA SUPERIOR Y NOS QUEDAMOS CON LA MEJOR SOLUCION\n",
        "    NODO_FINAL=[x for x in HIJOS if len(x['s']) == DIMENSION]\n",
        "    if len(NODO_FINAL) > 0:\n",
        "      if NODO_FINAL[0]['ci'] < CotaSup:\n",
        "        CotaSup = NODO_FINAL[0]['ci']\n",
        "        MEJOR_SOLUCION = NODO_FINAL\n",
        "\n",
        "    #PODA\n",
        "    HIJOS = [x for x in HIJOS if x['ci'] < CotaSup]\n",
        "\n",
        "    #Añadimos los hijos\n",
        "    NODOS.extend(HIJOS)\n",
        "\n",
        "    #Eliminamos el nodo ramificado\n",
        "    NODOS = [x for x in NODOS if x['s'] != nodo_prometedor]\n",
        "\n",
        "  print(\"La solucion final es:\", MEJOR_SOLUCION, \" en \", iteracion, \" iteraciones\", \" para dimension: \", DIMENSION)\n",
        "\n",
        "ramificacion_y_poda(COSTES)\n",
        "\n"
      ],
      "execution_count": 6,
      "outputs": [
        {
          "output_type": "stream",
          "text": [
            "La solucion final es: [{'s': (0, 2, 3, 1), 'ci': 61}]  en  14  iteraciones  para dimension:  4\n"
          ],
          "name": "stdout"
        }
      ]
    },
    {
      "cell_type": "code",
      "metadata": {
        "id": "nCvOIf-31GCW",
        "colab_type": "code",
        "colab": {
          "base_uri": "https://localhost:8080/",
          "height": 282
        },
        "outputId": "5c61f23c-3244-481e-b18f-dbc44f8541a6"
      },
      "source": [
        "import math\n",
        "import matplotlib.pyplot as plt\n",
        "import numpy as np\n",
        "\n",
        "import random\n",
        "\n",
        "f = lambda X: X[0]**2+X[1]**2 #FUncion\n",
        "df = lambda X: [2*X[0] , 2*X[1]] #Gradiente\n",
        "\n",
        "#Preparacion dataos para mapa de niveles en Z\n",
        "resolucion = 100\n",
        "rango = 2.5\n",
        "X=np.linspace(-rango,rango,resolucion)\n",
        "Y=np.linspace(-rango,rango,resolucion)\n",
        "Z=np.zeros((resolucion,resolucion))\n",
        "for ix,x in enumerate(X):\n",
        "  for iy,y in enumerate(Y):\n",
        "    Z[iy,ix] = f([x,y])\n",
        "\n",
        "#Pinta el mapa de niveles de Z\n",
        "plt.contourf(X,Y,Z,resolucion)\n",
        "plt.colorbar()\n",
        "\n",
        "#Generamos un punto aleatorio\n",
        "P=[random.uniform(-2,2),random.uniform(-2,2)]\n",
        "plt.plot(P[0],P[1],\"o\",c=\"white\")\n",
        "\n",
        "#Tasa de aprendizage\n",
        "TA=.1\n",
        "\n",
        "#Iteraciones\n",
        "for _ in range(500):\n",
        "  grad = df(P)\n",
        "  P[0],P[1] = P[0] - TA*grad[0],P[1] - TA*grad[1]\n",
        "  plt.plot(P[0],P[1],\"o\",c=\"red\")\n",
        "\n",
        "#pintar grafico\n",
        "plt.plot(P[0],P[1],\"o\",c=\"green\")\n",
        "plt.show()\n",
        "print(\"Solucion:\", P , f(P))"
      ],
      "execution_count": 3,
      "outputs": [
        {
          "output_type": "display_data",
          "data": {
            "image/png": "[encoded data removed]",
            "text/plain": [
              "<Figure size 432x288 with 2 Axes>"
            ]
          },
          "metadata": {
            "tags": [],
            "needs_background": "light"
          }
        },
        {
          "output_type": "stream",
          "text": [
            "Solucion: [2.575909067533064e-49, 6.972552870710272e-49] 5.52518010590491e-97\n"
          ],
          "name": "stdout"
        }
      ]
    }
  ]
}