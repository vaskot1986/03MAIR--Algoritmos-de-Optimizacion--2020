{
  "nbformat": 4,
  "nbformat_minor": 0,
  "metadata": {
    "colab": {
      "name": "arnau_vazquez-AG1.ipynb",
      "provenance": [],
      "collapsed_sections": [],
      "authorship_tag": "ABX9TyPI0fkmPrDkXq/jO9X4FIYe",
      "include_colab_link": true
    },
    "kernelspec": {
      "name": "python3",
      "display_name": "Python 3"
    }
  },
  "cells": [
    {
      "cell_type": "markdown",
      "metadata": {
        "id": "view-in-github",
        "colab_type": "text"
      },
      "source": [
        "<a href=\"https://colab.research.google.com/github/vaskot1986/03MAIR--Algoritmos-de-Optimizacion--2020/blob/master/arnau_vazquez_AG1.ipynb\" target=\"_parent\"><img src=\"https://colab.research.google.com/assets/colab-badge.svg\" alt=\"Open In Colab\"/></a>"
      ]
    },
    {
      "cell_type": "code",
      "metadata": {
        "id": "y7QDCnVPmYII",
        "colab_type": "code",
        "colab": {}
      },
      "source": [
        "# Nombre: arnau vazquez\n",
        "# https://colab.research.google.com/drive/1coDRi-2vlhhatn9cFzcBR4izymFYWuAM?usp=sharing"
      ],
      "execution_count": null,
      "outputs": []
    },
    {
      "cell_type": "markdown",
      "metadata": {
        "id": "UwfwaGuXiNUA",
        "colab_type": "text"
      },
      "source": [
        "**Nombre:** Arnau Vazquez Giner\n",
        "\n",
        "**URL COllab:** https://colab.research.google.com/drive/1coDRi-2vlhhatn9cFzcBR4izymFYWuAM?usp=sharing\n",
        "\n",
        "**URL Github:** https://github.com/vaskot1986/03MAIR--Algoritmos-de-Optimizacion--2020/blob/master/arnau_vazquez_AG1.ipynb"
      ]
    },
    {
      "cell_type": "markdown",
      "metadata": {
        "id": "GszASAI6qKrn",
        "colab_type": "text"
      },
      "source": [
        "#Actividad guiada 1"
      ]
    },
    {
      "cell_type": "markdown",
      "metadata": {
        "id": "gasK7217pEtR",
        "colab_type": "text"
      },
      "source": [
        ""
      ]
    },
    {
      "cell_type": "code",
      "metadata": {
        "id": "ZD5gM7-lpFuc",
        "colab_type": "code",
        "colab": {
          "base_uri": "https://localhost:8080/",
          "height": 136
        },
        "outputId": "e228e3a3-dbae-4397-e486-d1c856485642"
      },
      "source": [
        "def torres_de_hanoi(N, desde, hasta):\n",
        "  if N==1:\n",
        "    print(\"Mueve desde la \" + str(desde) + \" hasta \" + str(hasta))\n",
        "  else:\n",
        "    torres_de_hanoi(N-1, desde, 6-hasta-desde)\n",
        "    print(\"Mueve desde la \" + str(desde) + \" hasta \" + str(hasta))\n",
        "    torres_de_hanoi(N-1, 6-hasta-desde, hasta)\n",
        "\n",
        "torres_de_hanoi(3,1,3)"
      ],
      "execution_count": 1,
      "outputs": [
        {
          "output_type": "stream",
          "text": [
            "Mueve desde la 1 hasta 3\n",
            "Mueve desde la 1 hasta 2\n",
            "Mueve desde la 3 hasta 2\n",
            "Mueve desde la 1 hasta 3\n",
            "Mueve desde la 2 hasta 1\n",
            "Mueve desde la 2 hasta 3\n",
            "Mueve desde la 1 hasta 3\n"
          ],
          "name": "stdout"
        }
      ]
    },
    {
      "cell_type": "code",
      "metadata": {
        "id": "4Dg_diV7v9yH",
        "colab_type": "code",
        "colab": {
          "base_uri": "https://localhost:8080/",
          "height": 51
        },
        "outputId": "9f5fec8a-2e34-42be-a42a-12e27b9bef24"
      },
      "source": [
        "#Problema monedas voraz (implementacion propia)\n",
        "#Incluye una funcion (burbuja_desc) que hace un bubble sort (tambien de implementacion propia) \n",
        "#que se usa para ordenar el sistema monetario de forma descendiente por si no lo estuviera...\n",
        "\n",
        "euro = [0.2, 0.1, 0.05, 2, 1, 0.5, 0.02, 0.01]\n",
        "def burbuja_desc(old_list):\n",
        "  if (len(old_list) == 0):\n",
        "    return old_list\n",
        "\n",
        "  new_list = old_list[:]\n",
        "  for i in range(len(new_list) - 1):\n",
        "    for j in range(len(new_list) - i - 1):\n",
        "      if new_list[j] < new_list[j + 1]:\n",
        "        aux = new_list[j]\n",
        "        new_list[j] = new_list[j + 1]\n",
        "        new_list[j + 1] = aux\n",
        "  \n",
        "  return new_list\n",
        "\n",
        "def cambio(total, coins = euro):\n",
        "  i = 0\n",
        "  coins = burbuja_desc(coins)\n",
        "  result = []\n",
        "  rest = total\n",
        "  while round(rest, 2) != 0:\n",
        "    i += 1\n",
        "    for coin in coins:\n",
        "      total_result = sum(result) or 0\n",
        "      if total_result + coin <= total:\n",
        "        result.append(coin)\n",
        "        rest -= coin\n",
        "        break      \n",
        "\n",
        "  print('Total iteraciones:', i)\n",
        "  return result\n",
        "\n",
        "print(cambio(7.34))\n"
      ],
      "execution_count": 2,
      "outputs": [
        {
          "output_type": "stream",
          "text": [
            "Total iteraciones: 8\n",
            "[2, 2, 2, 1, 0.2, 0.1, 0.02, 0.02]\n"
          ],
          "name": "stdout"
        }
      ]
    },
    {
      "cell_type": "code",
      "metadata": {
        "id": "kzkzhNNbiRWE",
        "colab_type": "code",
        "colab": {
          "base_uri": "https://localhost:8080/",
          "height": 119
        },
        "outputId": "9550a68a-cb09-46a4-b5eb-d6b3cb571c7f"
      },
      "source": [
        "#Problema de las reinas (implementacion propia)\n",
        "\n",
        "import numpy as np\n",
        "import sys\n",
        "sys.setrecursionlimit(100000000)\n",
        "\n",
        "#La función solo necesita un parametro de entrada que es N=numero de reinas (y opcional el flag mostrar para ir\n",
        "#mostrando la configuracion del nodo en el que estamos). Los demas parametros son usados internamente y no se deben tocar\n",
        "\n",
        "#La funcion mostrara al final el numero de pasoso, de soluciones y un array con todas las soluciones\n",
        "#Las soluciones son un array de longitud N en el cual, cada posicion corresponde a una reina. Asumimos que la reina en \n",
        "#la posicion 0 del array estara en la primera fila, la reina en la pos 1 en la segunda, etc.. El valor del array para\n",
        "#cada reina indica la columna en la que esta\n",
        "\n",
        "#El funcionamiento es el siguiente:\n",
        "#Miramos si la configuracion actual es valida, si lo es y no estamos en la ultima reina, pasamos a intentar poner una reina\n",
        "#mas. Si llegamos a la ultima reina y la configuracion es válida hemos encontrado una solucion, guardamos la solucion y miramos\n",
        "#la siguiente columna. Si por el contrario, en un momento dado vemos que la configuracion no es valida, abandonamos la rama\n",
        "#y, pasamos a la siguiente columna (vamos para atras y hacia adelante de nuevo con otro nodo --BACKTRACKING-).\n",
        "#Si no quedan columnas volvemos atras un nivel.\n",
        "\n",
        "#El problema funciona hasta con 8 reinas en un notebook, en collab solo hasta 7 (hay que aumentar manualmente el limite de recursion con sys.setrecursionlimit(100000000) )\n",
        "def reinas(N,mostrar=False,reina_id=0,posiciones=[],soluciones=[],pasos=0):\n",
        "    pasos+=1\n",
        "    if(mostrar):\n",
        "        print(posiciones)\n",
        "    if(len(posiciones)==0):\n",
        "        posiciones=['*' for i in range(N)]\n",
        "        \n",
        "    if(reina_id<0): #si reina id<0 quiere decir que hemos acabado\n",
        "        print('Pasos:')\n",
        "        print(pasos)\n",
        "        print('N soluciones:')\n",
        "        print(len(soluciones))\n",
        "        print('Soluciones:')\n",
        "        print(soluciones)\n",
        "        return        \n",
        "    if(posiciones[reina_id]=='*'):#si la reina a la que llegamos es '*' la inicializamos a 0\n",
        "        posiciones[reina_id]=0\n",
        "    if(posiciones[reina_id]>N-1): #si la columna no es valida (porque ya hemos llegado al ultima) volvemos a la previa reina\n",
        "        reina_id-=1\n",
        "        if(reina_id>=0):\n",
        "            posiciones[reina_id]+=1\n",
        "            posiciones[reina_id+1:N]=np.full(N-reina_id-1, '*')\n",
        "        return reinas(N,mostrar,reina_id,posiciones,soluciones,pasos)\n",
        "        \n",
        "    #Miramos si la configuracion hasta la reina actual es compatible\n",
        "    columna_ocupada = posiciones[reina_id] in posiciones[0:reina_id]\n",
        "    diagonal_ocupada = True in [np.abs(reina_id-idx)==np.abs(posiciones[reina_id]-val) for idx,val in enumerate(posiciones[0:reina_id])]\n",
        "    \n",
        "    if ((columna_ocupada==False and diagonal_ocupada==False) or reina_id==0): #si hasta la reina reina_id la configuracion es valida...\n",
        "        if(reina_id==N-1):  #si estamos en la ultima reina guardamos la solución\n",
        "            soluciones.append(posiciones[:])\n",
        "            posiciones[reina_id]+=1\n",
        "            reinas(N,mostrar,reina_id,posiciones,soluciones,pasos) #vamos a la siguiente columna\n",
        "        else:#si no estamos en la ultima reina vamos con la siguiente reina\n",
        "            return reinas(N,mostrar,reina_id+1,posiciones,soluciones,pasos)\n",
        "     \n",
        "    else:#si hasta la reina reina_id la configuracion no es valida abandonamos el nodo (tambien las ramas debajo de él, backtracking)\n",
        "        posiciones[reina_id]+=1\n",
        "        return reinas(N,mostrar,reina_id,posiciones,soluciones,pasos) #vamos a la siguiente columna\n",
        "\n",
        "       \n",
        "\n",
        "#reinas(5,mostrar=True)\n",
        "reinas(4)"
      ],
      "execution_count": 3,
      "outputs": [
        {
          "output_type": "stream",
          "text": [
            "Pasos:\n",
            "76\n",
            "N soluciones:\n",
            "2\n",
            "Soluciones:\n",
            "[[1, 3, 0, 2], [2, 0, 3, 1]]\n"
          ],
          "name": "stdout"
        }
      ]
    },
    {
      "cell_type": "code",
      "metadata": {
        "id": "MP4ptqfLmlul",
        "colab_type": "code",
        "colab": {
          "base_uri": "https://localhost:8080/",
          "height": 34
        },
        "outputId": "a15f53c6-4bc6-4ba9-f0e0-08cff8ef8405"
      },
      "source": [
        "#Encontrar los dos puntos mas cercanos 1 dimension por fuerza bruta, implementación fuerza bruta, complejidad O(n^2) puesto que recorremos \n",
        "#dos veces toda la lista\n",
        "import random\n",
        "\n",
        "def distancia_1D(P1,P2):\n",
        "  return abs(P1-P2)\n",
        "\n",
        "def min_dist(lista):\n",
        "  min=distancia_1D(lista[0],lista[1]) #inicializamos el minimo con la primera distancia\n",
        "  minimos=[0,1]\n",
        "  for i in range(len(lista)):\n",
        "    for j in range(len(lista)):\n",
        "      if i!=j:\n",
        "        if distancia_1D(lista[i],lista[j]) < min:\n",
        "          min = distancia_1D(lista[i],lista[j])\n",
        "          minimos=[i,j]\n",
        "  print(\"Distancia mínima es \"+str(distancia_1D(lista[minimos[0]],lista[minimos[1]]))+\", entre elementos \"+str(minimos[0])+\":(\"+str(lista[minimos[0]] )+\") y \"+str(minimos[1])+\":(\"+str(lista[minimos[1]])+\")\")\n",
        "\n",
        "lista_1D=[(random.randrange(1,10000)) for x in range(1000)]\n",
        "min_dist(lista_1D)\n"
      ],
      "execution_count": 4,
      "outputs": [
        {
          "output_type": "stream",
          "text": [
            "Distancia mínima es 0, entre elementos 2:(803) y 916:(803)\n"
          ],
          "name": "stdout"
        }
      ]
    },
    {
      "cell_type": "code",
      "metadata": {
        "id": "MSI9aBpDxJm3",
        "colab_type": "code",
        "colab": {
          "base_uri": "https://localhost:8080/",
          "height": 34
        },
        "outputId": "1e72a1d5-8767-47ac-9f48-bd73305d9974"
      },
      "source": [
        "#Encontrar los dos puntos mas cercanos 2 dimensiones por fuerza bruta\n",
        "import math\n",
        "import random\n",
        "\n",
        "def distancia2D(P1,P2):\n",
        "  return math.sqrt(math.pow((P1[0]-P2[0]),2)+ math.pow((P1[1]-P2[1]),2))\n",
        "\n",
        "def min_dist(lista):\n",
        "  min=distancia2D(lista[0],lista[1]) #inicializamos el minimo con la primera distancia\n",
        "  minimos=[0,1]\n",
        "  for i in range(len(lista)):\n",
        "    for j in range(len(lista)):\n",
        "      if i!=j:\n",
        "        if distancia2D(lista[i],lista[j]) < min:\n",
        "          min = distancia2D(lista[i],lista[j])\n",
        "          minimos=[i,j]\n",
        "  print(\"Distancia mínima es \"+str(distancia2D(lista[0],lista[1]))+\", entre elementos \"+str(minimos[0])+\":(\"+str(lista[minimos[0]] )+\") y \"+str(minimos[1])+\":(\"+str(lista[minimos[1]])+\")\")\n",
        "\n",
        "lista_2D=[(random.randrange(1,10000),random.randrange(1,10000)) for x in range(1000)]\n",
        "min_dist(lista_2D)"
      ],
      "execution_count": 5,
      "outputs": [
        {
          "output_type": "stream",
          "text": [
            "Distancia mínima es 720.0999930565199, entre elementos 783:((5014, 6442)) y 919:((5008, 6441))\n"
          ],
          "name": "stdout"
        }
      ]
    },
    {
      "cell_type": "code",
      "metadata": {
        "id": "VH0b0bCM2fzL",
        "colab_type": "code",
        "colab": {
          "base_uri": "https://localhost:8080/",
          "height": 34
        },
        "outputId": "9e7d29f2-38cc-4cdb-8a92-7a2c1e91069f"
      },
      "source": [
        "#Encontrar los dos puntos mas cercanos 3 dimensiones por fuerza bruta\n",
        "import math\n",
        "import random\n",
        "\n",
        "def distancia3D(P1,P2):\n",
        "  return math.sqrt(math.pow((P1[0]-P2[0]),2)+ math.pow((P1[1]-P2[1]),2)+ math.pow((P1[2]-P2[2]),2))\n",
        "\n",
        "def min_dist(lista):\n",
        "  min=distancia2D(lista[0],lista[1]) #inicializamos el minimo con la primera distancia\n",
        "  minimos=[0,1]\n",
        "  for i in range(len(lista)):\n",
        "    for j in range(len(lista)):\n",
        "      if i!=j:\n",
        "        if distancia3D(lista[i],lista[j]) < min:\n",
        "          min = distancia3D(lista[i],lista[j])\n",
        "          minimos=[i,j]\n",
        "  print(\"Distancia mínima es \"+str(distancia3D(lista[0],lista[1]))+\", entre elementos \"+str(minimos[0])+\":(\"+str(lista[minimos[0]] )+\") y \"+str(minimos[1])+\":(\"+str(lista[minimos[1]])+\")\")\n",
        "\n",
        "lista_2D=[(random.randrange(1,10000),random.randrange(1,10000),random.randrange(1,10000)) for x in range(1000)]\n",
        "min_dist(lista_2D)"
      ],
      "execution_count": 6,
      "outputs": [
        {
          "output_type": "stream",
          "text": [
            "Distancia mínima es 4231.854912446786, entre elementos 839:((8141, 9169, 8284)) y 949:((8104, 9117, 8308))\n"
          ],
          "name": "stdout"
        }
      ]
    }
  ]
}